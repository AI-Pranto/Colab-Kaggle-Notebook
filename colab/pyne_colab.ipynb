{
  "nbformat": 4,
  "nbformat_minor": 0,
  "metadata": {
    "colab": {
      "name": "pyne.ipynb",
      "provenance": [],
      "collapsed_sections": []
    },
    "kernelspec": {
      "name": "python3",
      "display_name": "Python 3"
    },
    "language_info": {
      "name": "python"
    }
  },
  "cells": [
    {
      "cell_type": "code",
      "metadata": {
        "colab": {
          "base_uri": "https://localhost:8080/"
        },
        "id": "NzYLIJyxPu7p",
        "outputId": "ee7febca-fbfc-4cff-dbf6-98ccd0746916"
      },
      "source": [
        "! git clone https://github.com/pyne/pyne.git"
      ],
      "execution_count": 7,
      "outputs": [
        {
          "output_type": "stream",
          "text": [
            "Cloning into 'pyne'...\n",
            "remote: Enumerating objects: 132, done.\u001b[K\n",
            "remote: Counting objects: 100% (132/132), done.\u001b[K\n",
            "remote: Compressing objects: 100% (66/66), done.\u001b[K\n",
            "remote: Total 41828 (delta 79), reused 103 (delta 66), pack-reused 41696\u001b[K\n",
            "Receiving objects: 100% (41828/41828), 41.81 MiB | 20.51 MiB/s, done.\n",
            "Resolving deltas: 100% (27802/27802), done.\n"
          ],
          "name": "stdout"
        }
      ]
    },
    {
      "cell_type": "code",
      "metadata": {
        "colab": {
          "base_uri": "https://localhost:8080/"
        },
        "id": "80O5LkQ9QcXU",
        "outputId": "c0b9152e-9d0e-4370-bf40-f8ac094eb3f6"
      },
      "source": [
        "from google.colab import drive \n",
        "drive.mount('/content/drive')"
      ],
      "execution_count": 10,
      "outputs": [
        {
          "output_type": "stream",
          "text": [
            "Mounted at /content/drive\n"
          ],
          "name": "stdout"
        }
      ]
    },
    {
      "cell_type": "code",
      "metadata": {
        "colab": {
          "base_uri": "https://localhost:8080/"
        },
        "id": "HYwjMy3-ThD6",
        "outputId": "8db5ae43-c510-498f-8d6a-ae382fda830f"
      },
      "source": [
        "! pip install cmake --upgrade\n",
        "! mkdir /content/pyne_build\n",
        "% cd /content/pyne/\n",
        "! python setup.py install --clean --prefix /content/pyne_build"
      ],
      "execution_count": 15,
      "outputs": [
        {
          "output_type": "stream",
          "text": [
            "Requirement already up-to-date: cmake in /usr/local/lib/python3.7/dist-packages (3.18.4.post1)\n",
            "mkdir: cannot create directory ‘/content/pyne_build’: File exists\n",
            "/content/pyne\n",
            "setup.py:38: DeprecationWarning: the imp module is deprecated in favour of importlib; see the module's documentation for alternative uses\n",
            "  import imp\n",
            "atomic_data.h generated is the same as existing file, skipping.\n",
            "atomic_data.cpp generated is the same as existing file, skipping.\n",
            "/usr/local/bin/cmake\n",
            "CMake command is\n",
            "cmake .. -DCMAKE_INSTALL_PREFIX=/usr -DENABLE_SPATIAL_SOLVERS=ON -DPYTHON_EXECUTABLE=/usr/bin/python3\n",
            "CMake Error: The source directory \"/content\" does not appear to contain CMakeLists.txt.\n",
            "Specify --help for usage, or press the help button on the CMake GUI.\n",
            "\n",
            "--------------------\n",
            "\n",
            "If you are having issues building pyne, please report your problem to pyne-dev@googlegroups.com or look for help at http://pyne.io\n",
            "\n",
            "--------------------\n",
            "Traceback (most recent call last):\n",
            "  File \"setup.py\", line 420, in <module>\n",
            "    main()\n",
            "  File \"setup.py\", line 404, in main\n",
            "    main_safe(ns)\n",
            "  File \"setup.py\", line 396, in main_safe\n",
            "    main_body(ns)\n",
            "  File \"setup.py\", line 378, in main_body\n",
            "    rtn = subprocess.check_call(cmake_cmd, cwd=ns.build_dir, shell=IS_NT)\n",
            "  File \"/usr/lib/python3.7/subprocess.py\", line 363, in check_call\n",
            "    raise CalledProcessError(retcode, cmd)\n",
            "subprocess.CalledProcessError: Command '['cmake', '..', '-DCMAKE_INSTALL_PREFIX=/usr', '-DENABLE_SPATIAL_SOLVERS=ON', '-DPYTHON_EXECUTABLE=/usr/bin/python3']' returned non-zero exit status 1.\n"
          ],
          "name": "stdout"
        }
      ]
    },
    {
      "cell_type": "code",
      "metadata": {
        "id": "x114BYsKYfZy"
      },
      "source": [
        "! cp -r '/content/pyne_build' '/content/drive/MyDrive/Temp/pyne_build'"
      ],
      "execution_count": 2,
      "outputs": []
    },
    {
      "cell_type": "code",
      "metadata": {
        "id": "gORtm8oaa1I5"
      },
      "source": [
        "from google.colab import drive \n",
        "drive.mount('/content/drive')\n",
        "\n",
        "! cp -r '/content/drive/MyDrive/Temp/pyne_build' '/content/'"
      ],
      "execution_count": null,
      "outputs": []
    },
    {
      "cell_type": "code",
      "metadata": {
        "id": "URgUYi3nU2O4"
      },
      "source": [
        "import os\n",
        "os.environ['PATH'] = '/content/pyne_build/bin'"
      ],
      "execution_count": 23,
      "outputs": []
    },
    {
      "cell_type": "code",
      "metadata": {
        "id": "sotr7z2AYvZ7"
      },
      "source": [
        ""
      ],
      "execution_count": null,
      "outputs": []
    }
  ]
}